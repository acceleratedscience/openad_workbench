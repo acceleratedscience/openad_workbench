{
 "cells": [
  {
   "cell_type": "markdown",
   "metadata": {},
   "source": [
    "Create your Group for Model Access"
   ]
  },
  {
   "cell_type": "code",
   "execution_count": null,
   "metadata": {},
   "outputs": [],
   "source": [
    "%openad model auth add group 'default' with '<api_key>'"
   ]
  },
  {
   "cell_type": "code",
   "execution_count": null,
   "metadata": {},
   "outputs": [],
   "source": [
    "%openad catalog model service from remote 'https://ae814485de68d45a7b81b063be9ca78f-2001013949.us-east-2.elb.amazonaws.com:8080/proxy' as  prop  USING (Inference-Service=properties  )\n",
    "%openad model auth add service prop to group default\n",
    "%openad catalog model service from remote 'https://ae814485de68d45a7b81b063be9ca78f-2001013949.us-east-2.elb.amazonaws.com:8080/proxy' as  moler  USING (Inference-Service=moler  )\n",
    "%openad model auth add service moler to group default\n",
    "%openad catalog model service from remote 'https://ae814485de68d45a7b81b063be9ca78f-2001013949.us-east-2.elb.amazonaws.com:8080/proxy' as  gen  USING (Inference-Service=generation  )\n",
    "%openad model auth add service gen to group default\n",
    "%openad catalog model service from remote 'https://ae814485de68d45a7b81b063be9ca78f-2001013949.us-east-2.elb.amazonaws.com:8080/proxy' as  molf  USING (Inference-Service=molformer  )\n",
    "%openad model auth add service gen to group default"
   ]
  },
  {
   "cell_type": "code",
   "execution_count": null,
   "metadata": {
    "vscode": {
     "languageId": "plaintext"
    }
   },
   "outputs": [],
   "source": [
    "Logon to RXN:"
   ]
  },
  {
   "cell_type": "code",
   "execution_count": null,
   "metadata": {},
   "outputs": [],
   "source": [
    "%openad add toolkit RXN"
   ]
  },
  {
   "cell_type": "markdown",
   "metadata": {},
   "source": [
    "Logon to Deep Search:"
   ]
  },
  {
   "cell_type": "code",
   "execution_count": null,
   "metadata": {},
   "outputs": [],
   "source": [
    "%openad add toolkit ds4sd"
   ]
  },
  {
   "cell_type": "markdown",
   "metadata": {},
   "source": [
    "Now lets login into our LLM, you will need a bam api key (ollama from notebook coming)"
   ]
  },
  {
   "cell_type": "markdown",
   "metadata": {},
   "source": [
    "%openad tell me about openad"
   ]
  }
 ],
 "metadata": {
  "language_info": {
   "name": "python"
  }
 },
 "nbformat": 4,
 "nbformat_minor": 2
}
