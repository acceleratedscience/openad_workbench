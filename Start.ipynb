{
 "cells": [
  {
   "cell_type": "markdown",
   "metadata": {},
   "source": [
    "## Create your Group for Model Access\n",
    "\n",
    "Here we are going to create a default Security group and add access to our target demonstration services."
   ]
  },
  {
   "cell_type": "code",
   "execution_count": null,
   "metadata": {},
   "outputs": [],
   "source": [
    "%openad model auth add group 'default' with '<api_key>'"
   ]
  },
  {
   "cell_type": "code",
   "execution_count": null,
   "metadata": {},
   "outputs": [],
   "source": [
    "%openad catalog model service from remote 'https://ae814485de68d45a7b81b063be9ca78f-2001013949.us-east-2.elb.amazonaws.com:8080/proxy' as  prop  USING (Inference-Service=properties  )\n",
    "%openad model auth add service prop to group default\n",
    "%openad catalog model service from remote 'https://ae814485de68d45a7b81b063be9ca78f-2001013949.us-east-2.elb.amazonaws.com:8080/proxy' as  moler  USING (Inference-Service=moler  )\n",
    "%openad model auth add service moler to group default\n",
    "%openad catalog model service from remote 'https://ae814485de68d45a7b81b063be9ca78f-2001013949.us-east-2.elb.amazonaws.com:8080/proxy' as  gen  USING (Inference-Service=generation  )\n",
    "%openad model auth add service gen to group default\n",
    "%openad catalog model service from remote 'https://ae814485de68d45a7b81b063be9ca78f-2001013949.us-east-2.elb.amazonaws.com:8080/proxy' as  molf  USING (Inference-Service=molformer  )\n",
    "%openad model auth add service gen to group default"
   ]
  },
  {
   "cell_type": "markdown",
   "metadata": {},
   "source": [
    "## Register with RXN"
   ]
  },
  {
   "cell_type": "markdown",
   "metadata": {
    "vscode": {
     "languageId": "plaintext"
    }
   },
   "source": [
    "<summary>Register with RXN</summary>\n",
    "<div markdown=\"block\">\n",
    "\n",
    "1. First, you'll need to generate an API key on the RXN website.\n",
    "\n",
    "    -   Sign up for an RXN account at [rxn.app.accelerate.science](https://rxn.app.accelerate.science)\n",
    "    -   Obtain your API key by clicking the user profile icon in the top right hand corner and select \"My profile\".<br>\n",
    "        <br>\n",
    "        <!-- ![Landing](assets/rxn-api-key.png) -->\n",
    "        <a href=\"https://raw.githubusercontent.com/acceleratedscience/open-ad-toolkit/main/assets/rxn-api-key.png\" target=\"_blank\"><img src=\"https://raw.githubusercontent.com/acceleratedscience/open-ad-toolkit/main/assets/rxn-api-key.png\" /></a>\n",
    "\n",
    "1. When setting the context to RXN using `set context rxn` you'll be prompted to create a new auth configuration file:\n",
    "\n",
    "    -   **Hostname:** [https://rxn.app.accelerate.science](https://rxn.app.accelerate.science)<br>\n",
    "    -   **API_key:** The RXN API key you obtained following the instructions above.\n",
    "\n",
    "1. You should get a message saying you successfully logged in.<br>\n",
    "\n",
    "    > **Note:** Your RXN auth config file is saved as `~/.openad/rxn_api.cred`. If you ever want to reset your RXN login information you can run `set context rxn reset`, or you can delete this file.<br>\n",
    "\n",
    "</div>\n",
    "</details>"
   ]
  },
  {
   "cell_type": "code",
   "execution_count": null,
   "metadata": {},
   "outputs": [],
   "source": [
    "%openad add toolkit RXN"
   ]
  },
  {
   "cell_type": "markdown",
   "metadata": {},
   "source": [
    "## Register with Deep Search"
   ]
  },
  {
   "cell_type": "markdown",
   "metadata": {},
   "source": [
    "<summary>Register with DS4SD (Deep Search)</summary>\n",
    "<div markdown=\"block\">\n",
    "\n",
    "1. First, you'll need to generate an API key on the Deep Search website.\n",
    "\n",
    "    - Visit the Deep Search website and create an account:<br>\n",
    "      [deepsearch-experience.res.ibm.com](https://deepsearch-experience.res.ibm.com)<br>\n",
    "    - Once logged in, click the Toolkit/API icon in the top right hand corner, then open the HTTP section\n",
    "    - Click the \"Generate new API key\" button<br>\n",
    "      <br>\n",
    "      <!-- ![Landing](assets/ds4sd-api-key.png) -->\n",
    "      <a href=\"https://raw.githubusercontent.com/acceleratedscience/open-ad-toolkit/main/assets/ds4sd-api-key.png\" target=\"_blank\"><img src=\"https://raw.githubusercontent.com/acceleratedscience/open-ad-toolkit/main/assets/ds4sd-api-key.png\" /></a>\n",
    "\n",
    "1. Once inside the OpenAD client, you'll be prompted to authenticate when activating the Deep Search (DS4SD) toolkit. When running `set context ds4sd` :\n",
    "\n",
    "   - **Hostname:** [https://sds.app.accelerate.science](https://sds.app.accelerate.science)\n",
    "   - **Email:** Your email\n",
    "   - **API_key:** The DS4SD API key you obtained following the instructions above.\n",
    "\n",
    "1. You should get a message saying you successfully logged in.\n",
    "\n",
    "    > **Note:** Your DS4SD auth config file is saved as `~/.openad/deepsearch_api.cred`. If you ever want to reset your DS4SD login information you can run `set context ds4sd reset`, or you can delete this file.<br>\n",
    "\n",
    "</div>"
   ]
  },
  {
   "cell_type": "code",
   "execution_count": null,
   "metadata": {},
   "outputs": [],
   "source": [
    "%openad add toolkit DS4SD"
   ]
  },
  {
   "cell_type": "markdown",
   "metadata": {},
   "source": [
    "## Enabling for BAM LLM for Tell Me\n",
    "\n",
    "Now lets login into our LLM, you will need a bam api key (ollama from notebook coming)"
   ]
  },
  {
   "cell_type": "markdown",
   "metadata": {},
   "source": [
    "%openad tell me about openad"
   ]
  }
 ],
 "metadata": {
  "language_info": {
   "name": "python"
  }
 },
 "nbformat": 4,
 "nbformat_minor": 2
}
